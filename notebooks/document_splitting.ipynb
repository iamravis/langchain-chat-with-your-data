{
 "cells": [
  {
   "cell_type": "code",
   "execution_count": 1,
   "metadata": {},
   "outputs": [],
   "source": [
    "import os\n",
    "import openai\n",
    "import sys\n",
    "\n",
    "sys.path.append('../..')\n",
    "\n",
    "from dotenv import load_dotenv\n",
    "load_dotenv()\n",
    "\n",
    "openai.api_key  = os.environ['OPENAI_API_KEY']"
   ]
  },
  {
   "cell_type": "code",
   "execution_count": 2,
   "metadata": {},
   "outputs": [],
   "source": [
    "from langchain.text_splitter import RecursiveCharacterTextSplitter, CharacterTextSplitter"
   ]
  },
  {
   "cell_type": "code",
   "execution_count": 3,
   "metadata": {},
   "outputs": [],
   "source": [
    "chunk_size =26\n",
    "chunk_overlap = 4"
   ]
  },
  {
   "cell_type": "code",
   "execution_count": 4,
   "metadata": {},
   "outputs": [],
   "source": [
    "r_splitter = RecursiveCharacterTextSplitter(\n",
    "    chunk_size=chunk_size,\n",
    "    chunk_overlap=chunk_overlap\n",
    ")\n",
    "c_splitter = CharacterTextSplitter(\n",
    "    chunk_size=chunk_size,\n",
    "    chunk_overlap=chunk_overlap\n",
    ")"
   ]
  },
  {
   "cell_type": "code",
   "execution_count": 5,
   "metadata": {},
   "outputs": [],
   "source": [
    "text = \"Vector databases manage large collections of embedding\\\n",
    "vectors. As AI applications are growing rapidly,\\\n",
    "so are the number of embeddings that need to be\\\n",
    "stored and indexed. The Faiss library is dedicated to\\\n",
    "vector similarity search, a core functionality of vector\\\n",
    "databases. Faiss is a toolkit of indexing methods and\\\n",
    "related primitives used to search, cluster, compress\\\n",
    "and transform vectors. This paper first describes the\\\n",
    "tradeoff space of vector search, then the design principles\\\n",
    "of Faiss in terms of structure, approach to optimization\\\n",
    "and interfacing. We benchmark key features\\\n",
    "of the library and discuss a few selected applications\\\n",
    "to highlight its broad applicability.\""
   ]
  },
  {
   "cell_type": "code",
   "execution_count": 6,
   "metadata": {},
   "outputs": [
    {
     "data": {
      "text/plain": [
       "664"
      ]
     },
     "execution_count": 6,
     "metadata": {},
     "output_type": "execute_result"
    }
   ],
   "source": [
    "len(text)"
   ]
  },
  {
   "cell_type": "code",
   "execution_count": 7,
   "metadata": {},
   "outputs": [],
   "source": [
    "c_splitter = CharacterTextSplitter(\n",
    "    chunk_size=450,\n",
    "    chunk_overlap=0,\n",
    "    separator = ' '\n",
    ")\n",
    "r_splitter = RecursiveCharacterTextSplitter(\n",
    "    chunk_size=450,\n",
    "    chunk_overlap=0, \n",
    "    separators=[\"\\n\\n\", \"\\n\", \" \", \"\"]\n",
    ")"
   ]
  },
  {
   "cell_type": "code",
   "execution_count": 8,
   "metadata": {},
   "outputs": [
    {
     "data": {
      "text/plain": [
       "['Vector databases manage large collections of embeddingvectors. As AI applications are growing rapidly,so are the number of embeddings that need to bestored and indexed. The Faiss library is dedicated tovector similarity search, a core functionality of vectordatabases. Faiss is a toolkit of indexing methods andrelated primitives used to search, cluster, compressand transform vectors. This paper first describes thetradeoff space of vector search,',\n",
       " 'then the design principlesof Faiss in terms of structure, approach to optimizationand interfacing. We benchmark key featuresof the library and discuss a few selected applicationsto highlight its broad applicability.']"
      ]
     },
     "execution_count": 8,
     "metadata": {},
     "output_type": "execute_result"
    }
   ],
   "source": [
    "c_splitter.split_text(text)"
   ]
  },
  {
   "cell_type": "code",
   "execution_count": 9,
   "metadata": {},
   "outputs": [
    {
     "data": {
      "text/plain": [
       "['Vector databases manage large collections of embeddingvectors. As AI applications are growing rapidly,so are the number of embeddings that need to bestored and indexed. The Faiss library is dedicated tovector similarity search, a core functionality of vectordatabases. Faiss is a toolkit of indexing methods andrelated primitives used to search, cluster, compressand transform vectors. This paper first describes thetradeoff space of vector search,',\n",
       " 'then the design principlesof Faiss in terms of structure, approach to optimizationand interfacing. We benchmark key featuresof the library and discuss a few selected applicationsto highlight its broad applicability.']"
      ]
     },
     "execution_count": 9,
     "metadata": {},
     "output_type": "execute_result"
    }
   ],
   "source": [
    "r_splitter.split_text(text)"
   ]
  },
  {
   "cell_type": "code",
   "execution_count": 10,
   "metadata": {},
   "outputs": [
    {
     "name": "stderr",
     "output_type": "stream",
     "text": [
      "<>:4: SyntaxWarning: invalid escape sequence '\\.'\n",
      "<>:4: SyntaxWarning: invalid escape sequence '\\.'\n",
      "/var/folders/v8/l5r44ftx4g5bx2y5fhdpcmmh0000gn/T/ipykernel_97241/26039273.py:4: SyntaxWarning: invalid escape sequence '\\.'\n",
      "  separators=[\"\\n\\n\", \"\\n\", \"\\. \", \" \", \"\"]\n"
     ]
    },
    {
     "data": {
      "text/plain": [
       "['Vector databases manage large collections of embeddingvectors. As AI applications are growing rapidly,so are the number of embeddings that need to',\n",
       " 'bestored and indexed. The Faiss library is dedicated tovector similarity search, a core functionality of vectordatabases. Faiss is a toolkit of',\n",
       " 'indexing methods andrelated primitives used to search, cluster, compressand transform vectors. This paper first describes thetradeoff space of vector',\n",
       " 'search, then the design principlesof Faiss in terms of structure, approach to optimizationand interfacing. We benchmark key featuresof the library',\n",
       " 'and discuss a few selected applicationsto highlight its broad applicability.']"
      ]
     },
     "execution_count": 10,
     "metadata": {},
     "output_type": "execute_result"
    }
   ],
   "source": [
    "r_splitter = RecursiveCharacterTextSplitter(\n",
    "    chunk_size=150,\n",
    "    chunk_overlap=0,\n",
    "    separators=[\"\\n\\n\", \"\\n\", \"\\. \", \" \", \"\"]\n",
    ")\n",
    "r_splitter.split_text(text)"
   ]
  },
  {
   "cell_type": "code",
   "execution_count": 11,
   "metadata": {},
   "outputs": [
    {
     "name": "stderr",
     "output_type": "stream",
     "text": [
      "<>:4: SyntaxWarning: invalid escape sequence '\\.'\n",
      "<>:4: SyntaxWarning: invalid escape sequence '\\.'\n",
      "/var/folders/v8/l5r44ftx4g5bx2y5fhdpcmmh0000gn/T/ipykernel_97241/506348273.py:4: SyntaxWarning: invalid escape sequence '\\.'\n",
      "  separators=[\"\\n\\n\", \"\\n\", \"(?<=\\. )\", \" \", \"\"]\n"
     ]
    },
    {
     "data": {
      "text/plain": [
       "['Vector databases manage large collections of embeddingvectors. As AI applications are growing rapidly,so are the number of embeddings that need to',\n",
       " 'bestored and indexed. The Faiss library is dedicated tovector similarity search, a core functionality of vectordatabases. Faiss is a toolkit of',\n",
       " 'indexing methods andrelated primitives used to search, cluster, compressand transform vectors. This paper first describes thetradeoff space of vector',\n",
       " 'search, then the design principlesof Faiss in terms of structure, approach to optimizationand interfacing. We benchmark key featuresof the library',\n",
       " 'and discuss a few selected applicationsto highlight its broad applicability.']"
      ]
     },
     "execution_count": 11,
     "metadata": {},
     "output_type": "execute_result"
    }
   ],
   "source": [
    "r_splitter = RecursiveCharacterTextSplitter(\n",
    "    chunk_size=150,\n",
    "    chunk_overlap=0,\n",
    "    separators=[\"\\n\\n\", \"\\n\", \"(?<=\\. )\", \" \", \"\"]\n",
    ")\n",
    "r_splitter.split_text(text)"
   ]
  },
  {
   "cell_type": "code",
   "execution_count": 12,
   "metadata": {},
   "outputs": [],
   "source": [
    "from langchain.document_loaders import PyPDFLoader\n",
    "loader = PyPDFLoader(\"../notebooks/data/faiss_meta_paper.pdf\")\n",
    "pages = loader.load()"
   ]
  },
  {
   "cell_type": "code",
   "execution_count": 13,
   "metadata": {},
   "outputs": [],
   "source": [
    "from langchain.text_splitter import CharacterTextSplitter\n",
    "text_splitter = CharacterTextSplitter(\n",
    "    separator=\"\\n\",\n",
    "    chunk_size=1000,\n",
    "    chunk_overlap=150,\n",
    "    length_function=len\n",
    ")"
   ]
  },
  {
   "cell_type": "code",
   "execution_count": 14,
   "metadata": {},
   "outputs": [],
   "source": [
    "docs = text_splitter.split_documents(pages)"
   ]
  },
  {
   "cell_type": "code",
   "execution_count": 15,
   "metadata": {},
   "outputs": [
    {
     "data": {
      "text/plain": [
       "125"
      ]
     },
     "execution_count": 15,
     "metadata": {},
     "output_type": "execute_result"
    }
   ],
   "source": [
    "len(docs)"
   ]
  },
  {
   "cell_type": "code",
   "execution_count": null,
   "metadata": {},
   "outputs": [],
   "source": [
    "what is index building time?"
   ]
  },
  {
   "cell_type": "code",
   "execution_count": 16,
   "metadata": {},
   "outputs": [
    {
     "data": {
      "text/plain": [
       "21"
      ]
     },
     "execution_count": 16,
     "metadata": {},
     "output_type": "execute_result"
    }
   ],
   "source": [
    "len(pages)"
   ]
  },
  {
   "cell_type": "code",
   "execution_count": 17,
   "metadata": {},
   "outputs": [
    {
     "data": {
      "text/plain": [
       "Document(page_content='THEFAISS LIBRARY\\nMatthijs Douze\\nFAIR, MetaAlexandr Guzhva\\nZillizChengqi Deng\\nZhejiang University\\nJeff Johnson\\nFAIR, MetaGergely Szilvasy\\nFAIR, MetaPierre-Emmanuel Mazar ´e\\nFAIR, Meta\\nMaria Lomeli\\nFAIR, MetaLucas Hosseini\\nSkip LabsHerv ´e J´egou\\nKyutai\\nAbstract\\nVector databases manage large collections of embed-\\nding vectors. As AI applications are growing rapidly,\\nso are the number of embeddings that need to be\\nstored and indexed. The Faiss library is dedicated to\\nvector similarity search, a core functionality of vector\\ndatabases. Faiss is a toolkit of indexing methods and\\nrelated primitives used to search, cluster, compress\\nand transform vectors. This paper first describes the\\ntradeoff space of vector search, then the design prin-\\nciples of Faiss in terms of structure, approach to opti-\\nmization and interfacing. We benchmark key features\\nof the library and discuss a few selected applications\\nto highlight its broad applicability.\\n1 Introduction', metadata={'source': '../notebooks/data/faiss_meta_paper.pdf', 'page': 0})"
      ]
     },
     "execution_count": 17,
     "metadata": {},
     "output_type": "execute_result"
    }
   ],
   "source": [
    "docs[0]"
   ]
  }
 ],
 "metadata": {
  "kernelspec": {
   "display_name": "langchain",
   "language": "python",
   "name": "python3"
  },
  "language_info": {
   "codemirror_mode": {
    "name": "ipython",
    "version": 3
   },
   "file_extension": ".py",
   "mimetype": "text/x-python",
   "name": "python",
   "nbconvert_exporter": "python",
   "pygments_lexer": "ipython3",
   "version": "3.12.2"
  }
 },
 "nbformat": 4,
 "nbformat_minor": 2
}
